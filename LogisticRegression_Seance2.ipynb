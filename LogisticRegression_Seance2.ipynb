{
  "nbformat": 4,
  "nbformat_minor": 0,
  "metadata": {
    "colab": {
      "name": "LogisticRegression Seance2.ipynb",
      "provenance": [],
      "authorship_tag": "ABX9TyPqf3fBMcLAW8+Ld/3EK7w+",
      "include_colab_link": true
    },
    "kernelspec": {
      "name": "python3",
      "display_name": "Python 3"
    }
  },
  "cells": [
    {
      "cell_type": "markdown",
      "metadata": {
        "id": "view-in-github",
        "colab_type": "text"
      },
      "source": [
        "<a href=\"https://colab.research.google.com/github/SIDIBEMoussa/Simple_training/blob/main/LogisticRegression_Seance2.ipynb\" target=\"_parent\"><img src=\"https://colab.research.google.com/assets/colab-badge.svg\" alt=\"Open In Colab\"/></a>"
      ]
    },
    {
      "cell_type": "code",
      "metadata": {
        "id": "uG6j6SI1vJ5x"
      },
      "source": [
        "import pandas as pd"
      ],
      "execution_count": 217,
      "outputs": []
    },
    {
      "cell_type": "code",
      "metadata": {
        "id": "k4qAkw4el6Mb"
      },
      "source": [
        "import seaborn as sns"
      ],
      "execution_count": 218,
      "outputs": []
    },
    {
      "cell_type": "code",
      "metadata": {
        "id": "IimrEopevkh3"
      },
      "source": [
        "diabete=pd.read_table(\"diabete.txt\",sep=\"\\t\",header=0)"
      ],
      "execution_count": 219,
      "outputs": []
    },
    {
      "cell_type": "code",
      "metadata": {
        "colab": {
          "base_uri": "https://localhost:8080/",
          "height": 204
        },
        "id": "eX1PJqimvx0H",
        "outputId": "7aaf53f0-f07c-4ba9-ac9b-214c769f48c9"
      },
      "source": [
        "diabete.head()"
      ],
      "execution_count": 220,
      "outputs": [
        {
          "output_type": "execute_result",
          "data": {
            "text/html": [
              "<div>\n",
              "<style scoped>\n",
              "    .dataframe tbody tr th:only-of-type {\n",
              "        vertical-align: middle;\n",
              "    }\n",
              "\n",
              "    .dataframe tbody tr th {\n",
              "        vertical-align: top;\n",
              "    }\n",
              "\n",
              "    .dataframe thead th {\n",
              "        text-align: right;\n",
              "    }\n",
              "</style>\n",
              "<table border=\"1\" class=\"dataframe\">\n",
              "  <thead>\n",
              "    <tr style=\"text-align: right;\">\n",
              "      <th></th>\n",
              "      <th>pregnant</th>\n",
              "      <th>plasma</th>\n",
              "      <th>diastolic</th>\n",
              "      <th>triceps</th>\n",
              "      <th>serum</th>\n",
              "      <th>bodymass</th>\n",
              "      <th>pedigree</th>\n",
              "      <th>age</th>\n",
              "      <th>alea1</th>\n",
              "      <th>alea2</th>\n",
              "      <th>diabete</th>\n",
              "    </tr>\n",
              "  </thead>\n",
              "  <tbody>\n",
              "    <tr>\n",
              "      <th>0</th>\n",
              "      <td>0</td>\n",
              "      <td>138</td>\n",
              "      <td>0</td>\n",
              "      <td>0</td>\n",
              "      <td>0</td>\n",
              "      <td>36.3</td>\n",
              "      <td>0.933</td>\n",
              "      <td>25</td>\n",
              "      <td>0.338</td>\n",
              "      <td>0.188</td>\n",
              "      <td>positive</td>\n",
              "    </tr>\n",
              "    <tr>\n",
              "      <th>1</th>\n",
              "      <td>4</td>\n",
              "      <td>142</td>\n",
              "      <td>86</td>\n",
              "      <td>0</td>\n",
              "      <td>0</td>\n",
              "      <td>44.0</td>\n",
              "      <td>0.645</td>\n",
              "      <td>22</td>\n",
              "      <td>0.835</td>\n",
              "      <td>0.711</td>\n",
              "      <td>positive</td>\n",
              "    </tr>\n",
              "    <tr>\n",
              "      <th>2</th>\n",
              "      <td>3</td>\n",
              "      <td>142</td>\n",
              "      <td>80</td>\n",
              "      <td>15</td>\n",
              "      <td>0</td>\n",
              "      <td>32.4</td>\n",
              "      <td>0.200</td>\n",
              "      <td>63</td>\n",
              "      <td>0.493</td>\n",
              "      <td>0.845</td>\n",
              "      <td>negative</td>\n",
              "    </tr>\n",
              "    <tr>\n",
              "      <th>3</th>\n",
              "      <td>3</td>\n",
              "      <td>113</td>\n",
              "      <td>50</td>\n",
              "      <td>10</td>\n",
              "      <td>85</td>\n",
              "      <td>29.5</td>\n",
              "      <td>0.626</td>\n",
              "      <td>25</td>\n",
              "      <td>0.857</td>\n",
              "      <td>0.821</td>\n",
              "      <td>negative</td>\n",
              "    </tr>\n",
              "    <tr>\n",
              "      <th>4</th>\n",
              "      <td>5</td>\n",
              "      <td>88</td>\n",
              "      <td>78</td>\n",
              "      <td>30</td>\n",
              "      <td>0</td>\n",
              "      <td>27.6</td>\n",
              "      <td>0.258</td>\n",
              "      <td>37</td>\n",
              "      <td>0.045</td>\n",
              "      <td>0.392</td>\n",
              "      <td>negative</td>\n",
              "    </tr>\n",
              "  </tbody>\n",
              "</table>\n",
              "</div>"
            ],
            "text/plain": [
              "   pregnant  plasma  diastolic  triceps  ...  age  alea1  alea2   diabete\n",
              "0         0     138          0        0  ...   25  0.338  0.188  positive\n",
              "1         4     142         86        0  ...   22  0.835  0.711  positive\n",
              "2         3     142         80       15  ...   63  0.493  0.845  negative\n",
              "3         3     113         50       10  ...   25  0.857  0.821  negative\n",
              "4         5      88         78       30  ...   37  0.045  0.392  negative\n",
              "\n",
              "[5 rows x 11 columns]"
            ]
          },
          "metadata": {
            "tags": []
          },
          "execution_count": 220
        }
      ]
    },
    {
      "cell_type": "code",
      "metadata": {
        "colab": {
          "base_uri": "https://localhost:8080/",
          "height": 297
        },
        "id": "E565txc6v07e",
        "outputId": "d9058c58-119f-4197-eda8-dec8cbdb64c0"
      },
      "source": [
        "diabete.describe()"
      ],
      "execution_count": 221,
      "outputs": [
        {
          "output_type": "execute_result",
          "data": {
            "text/html": [
              "<div>\n",
              "<style scoped>\n",
              "    .dataframe tbody tr th:only-of-type {\n",
              "        vertical-align: middle;\n",
              "    }\n",
              "\n",
              "    .dataframe tbody tr th {\n",
              "        vertical-align: top;\n",
              "    }\n",
              "\n",
              "    .dataframe thead th {\n",
              "        text-align: right;\n",
              "    }\n",
              "</style>\n",
              "<table border=\"1\" class=\"dataframe\">\n",
              "  <thead>\n",
              "    <tr style=\"text-align: right;\">\n",
              "      <th></th>\n",
              "      <th>pregnant</th>\n",
              "      <th>plasma</th>\n",
              "      <th>diastolic</th>\n",
              "      <th>triceps</th>\n",
              "      <th>serum</th>\n",
              "      <th>bodymass</th>\n",
              "      <th>pedigree</th>\n",
              "      <th>age</th>\n",
              "      <th>alea1</th>\n",
              "      <th>alea2</th>\n",
              "    </tr>\n",
              "  </thead>\n",
              "  <tbody>\n",
              "    <tr>\n",
              "      <th>count</th>\n",
              "      <td>568.000000</td>\n",
              "      <td>568.000000</td>\n",
              "      <td>568.000000</td>\n",
              "      <td>568.000000</td>\n",
              "      <td>568.000000</td>\n",
              "      <td>568.000000</td>\n",
              "      <td>568.000000</td>\n",
              "      <td>568.000000</td>\n",
              "      <td>568.000000</td>\n",
              "      <td>568.000000</td>\n",
              "    </tr>\n",
              "    <tr>\n",
              "      <th>mean</th>\n",
              "      <td>3.778169</td>\n",
              "      <td>120.279930</td>\n",
              "      <td>69.274648</td>\n",
              "      <td>20.904930</td>\n",
              "      <td>81.955986</td>\n",
              "      <td>31.878873</td>\n",
              "      <td>0.461162</td>\n",
              "      <td>33.230634</td>\n",
              "      <td>0.495176</td>\n",
              "      <td>0.507048</td>\n",
              "    </tr>\n",
              "    <tr>\n",
              "      <th>std</th>\n",
              "      <td>3.343384</td>\n",
              "      <td>32.341609</td>\n",
              "      <td>18.724643</td>\n",
              "      <td>15.937425</td>\n",
              "      <td>119.799862</td>\n",
              "      <td>7.680609</td>\n",
              "      <td>0.316976</td>\n",
              "      <td>11.822376</td>\n",
              "      <td>0.285181</td>\n",
              "      <td>0.283315</td>\n",
              "    </tr>\n",
              "    <tr>\n",
              "      <th>min</th>\n",
              "      <td>0.000000</td>\n",
              "      <td>0.000000</td>\n",
              "      <td>0.000000</td>\n",
              "      <td>0.000000</td>\n",
              "      <td>0.000000</td>\n",
              "      <td>0.000000</td>\n",
              "      <td>0.078000</td>\n",
              "      <td>21.000000</td>\n",
              "      <td>0.008000</td>\n",
              "      <td>0.002000</td>\n",
              "    </tr>\n",
              "    <tr>\n",
              "      <th>25%</th>\n",
              "      <td>1.000000</td>\n",
              "      <td>99.000000</td>\n",
              "      <td>64.000000</td>\n",
              "      <td>0.000000</td>\n",
              "      <td>0.000000</td>\n",
              "      <td>27.175000</td>\n",
              "      <td>0.238000</td>\n",
              "      <td>24.000000</td>\n",
              "      <td>0.242750</td>\n",
              "      <td>0.281000</td>\n",
              "    </tr>\n",
              "    <tr>\n",
              "      <th>50%</th>\n",
              "      <td>3.000000</td>\n",
              "      <td>115.000000</td>\n",
              "      <td>72.000000</td>\n",
              "      <td>23.000000</td>\n",
              "      <td>39.000000</td>\n",
              "      <td>31.750000</td>\n",
              "      <td>0.369000</td>\n",
              "      <td>29.000000</td>\n",
              "      <td>0.484500</td>\n",
              "      <td>0.513000</td>\n",
              "    </tr>\n",
              "    <tr>\n",
              "      <th>75%</th>\n",
              "      <td>6.000000</td>\n",
              "      <td>140.250000</td>\n",
              "      <td>80.000000</td>\n",
              "      <td>33.000000</td>\n",
              "      <td>125.250000</td>\n",
              "      <td>36.500000</td>\n",
              "      <td>0.608500</td>\n",
              "      <td>40.000000</td>\n",
              "      <td>0.738750</td>\n",
              "      <td>0.743000</td>\n",
              "    </tr>\n",
              "    <tr>\n",
              "      <th>max</th>\n",
              "      <td>15.000000</td>\n",
              "      <td>198.000000</td>\n",
              "      <td>122.000000</td>\n",
              "      <td>99.000000</td>\n",
              "      <td>846.000000</td>\n",
              "      <td>55.000000</td>\n",
              "      <td>2.329000</td>\n",
              "      <td>81.000000</td>\n",
              "      <td>0.998000</td>\n",
              "      <td>0.999000</td>\n",
              "    </tr>\n",
              "  </tbody>\n",
              "</table>\n",
              "</div>"
            ],
            "text/plain": [
              "         pregnant      plasma   diastolic  ...         age       alea1       alea2\n",
              "count  568.000000  568.000000  568.000000  ...  568.000000  568.000000  568.000000\n",
              "mean     3.778169  120.279930   69.274648  ...   33.230634    0.495176    0.507048\n",
              "std      3.343384   32.341609   18.724643  ...   11.822376    0.285181    0.283315\n",
              "min      0.000000    0.000000    0.000000  ...   21.000000    0.008000    0.002000\n",
              "25%      1.000000   99.000000   64.000000  ...   24.000000    0.242750    0.281000\n",
              "50%      3.000000  115.000000   72.000000  ...   29.000000    0.484500    0.513000\n",
              "75%      6.000000  140.250000   80.000000  ...   40.000000    0.738750    0.743000\n",
              "max     15.000000  198.000000  122.000000  ...   81.000000    0.998000    0.999000\n",
              "\n",
              "[8 rows x 10 columns]"
            ]
          },
          "metadata": {
            "tags": []
          },
          "execution_count": 221
        }
      ]
    },
    {
      "cell_type": "code",
      "metadata": {
        "colab": {
          "base_uri": "https://localhost:8080/",
          "height": 410
        },
        "id": "i_9ud6KBxZW7",
        "outputId": "e59be1e5-9c9e-4cdd-9381-f0d478072b2f"
      },
      "source": [
        "diabete.describe(include=\"all\")"
      ],
      "execution_count": 222,
      "outputs": [
        {
          "output_type": "execute_result",
          "data": {
            "text/html": [
              "<div>\n",
              "<style scoped>\n",
              "    .dataframe tbody tr th:only-of-type {\n",
              "        vertical-align: middle;\n",
              "    }\n",
              "\n",
              "    .dataframe tbody tr th {\n",
              "        vertical-align: top;\n",
              "    }\n",
              "\n",
              "    .dataframe thead th {\n",
              "        text-align: right;\n",
              "    }\n",
              "</style>\n",
              "<table border=\"1\" class=\"dataframe\">\n",
              "  <thead>\n",
              "    <tr style=\"text-align: right;\">\n",
              "      <th></th>\n",
              "      <th>pregnant</th>\n",
              "      <th>plasma</th>\n",
              "      <th>diastolic</th>\n",
              "      <th>triceps</th>\n",
              "      <th>serum</th>\n",
              "      <th>bodymass</th>\n",
              "      <th>pedigree</th>\n",
              "      <th>age</th>\n",
              "      <th>alea1</th>\n",
              "      <th>alea2</th>\n",
              "      <th>diabete</th>\n",
              "    </tr>\n",
              "  </thead>\n",
              "  <tbody>\n",
              "    <tr>\n",
              "      <th>count</th>\n",
              "      <td>568.000000</td>\n",
              "      <td>568.000000</td>\n",
              "      <td>568.000000</td>\n",
              "      <td>568.000000</td>\n",
              "      <td>568.000000</td>\n",
              "      <td>568.000000</td>\n",
              "      <td>568.000000</td>\n",
              "      <td>568.000000</td>\n",
              "      <td>568.000000</td>\n",
              "      <td>568.000000</td>\n",
              "      <td>568</td>\n",
              "    </tr>\n",
              "    <tr>\n",
              "      <th>unique</th>\n",
              "      <td>NaN</td>\n",
              "      <td>NaN</td>\n",
              "      <td>NaN</td>\n",
              "      <td>NaN</td>\n",
              "      <td>NaN</td>\n",
              "      <td>NaN</td>\n",
              "      <td>NaN</td>\n",
              "      <td>NaN</td>\n",
              "      <td>NaN</td>\n",
              "      <td>NaN</td>\n",
              "      <td>2</td>\n",
              "    </tr>\n",
              "    <tr>\n",
              "      <th>top</th>\n",
              "      <td>NaN</td>\n",
              "      <td>NaN</td>\n",
              "      <td>NaN</td>\n",
              "      <td>NaN</td>\n",
              "      <td>NaN</td>\n",
              "      <td>NaN</td>\n",
              "      <td>NaN</td>\n",
              "      <td>NaN</td>\n",
              "      <td>NaN</td>\n",
              "      <td>NaN</td>\n",
              "      <td>negative</td>\n",
              "    </tr>\n",
              "    <tr>\n",
              "      <th>freq</th>\n",
              "      <td>NaN</td>\n",
              "      <td>NaN</td>\n",
              "      <td>NaN</td>\n",
              "      <td>NaN</td>\n",
              "      <td>NaN</td>\n",
              "      <td>NaN</td>\n",
              "      <td>NaN</td>\n",
              "      <td>NaN</td>\n",
              "      <td>NaN</td>\n",
              "      <td>NaN</td>\n",
              "      <td>372</td>\n",
              "    </tr>\n",
              "    <tr>\n",
              "      <th>mean</th>\n",
              "      <td>3.778169</td>\n",
              "      <td>120.279930</td>\n",
              "      <td>69.274648</td>\n",
              "      <td>20.904930</td>\n",
              "      <td>81.955986</td>\n",
              "      <td>31.878873</td>\n",
              "      <td>0.461162</td>\n",
              "      <td>33.230634</td>\n",
              "      <td>0.495176</td>\n",
              "      <td>0.507048</td>\n",
              "      <td>NaN</td>\n",
              "    </tr>\n",
              "    <tr>\n",
              "      <th>std</th>\n",
              "      <td>3.343384</td>\n",
              "      <td>32.341609</td>\n",
              "      <td>18.724643</td>\n",
              "      <td>15.937425</td>\n",
              "      <td>119.799862</td>\n",
              "      <td>7.680609</td>\n",
              "      <td>0.316976</td>\n",
              "      <td>11.822376</td>\n",
              "      <td>0.285181</td>\n",
              "      <td>0.283315</td>\n",
              "      <td>NaN</td>\n",
              "    </tr>\n",
              "    <tr>\n",
              "      <th>min</th>\n",
              "      <td>0.000000</td>\n",
              "      <td>0.000000</td>\n",
              "      <td>0.000000</td>\n",
              "      <td>0.000000</td>\n",
              "      <td>0.000000</td>\n",
              "      <td>0.000000</td>\n",
              "      <td>0.078000</td>\n",
              "      <td>21.000000</td>\n",
              "      <td>0.008000</td>\n",
              "      <td>0.002000</td>\n",
              "      <td>NaN</td>\n",
              "    </tr>\n",
              "    <tr>\n",
              "      <th>25%</th>\n",
              "      <td>1.000000</td>\n",
              "      <td>99.000000</td>\n",
              "      <td>64.000000</td>\n",
              "      <td>0.000000</td>\n",
              "      <td>0.000000</td>\n",
              "      <td>27.175000</td>\n",
              "      <td>0.238000</td>\n",
              "      <td>24.000000</td>\n",
              "      <td>0.242750</td>\n",
              "      <td>0.281000</td>\n",
              "      <td>NaN</td>\n",
              "    </tr>\n",
              "    <tr>\n",
              "      <th>50%</th>\n",
              "      <td>3.000000</td>\n",
              "      <td>115.000000</td>\n",
              "      <td>72.000000</td>\n",
              "      <td>23.000000</td>\n",
              "      <td>39.000000</td>\n",
              "      <td>31.750000</td>\n",
              "      <td>0.369000</td>\n",
              "      <td>29.000000</td>\n",
              "      <td>0.484500</td>\n",
              "      <td>0.513000</td>\n",
              "      <td>NaN</td>\n",
              "    </tr>\n",
              "    <tr>\n",
              "      <th>75%</th>\n",
              "      <td>6.000000</td>\n",
              "      <td>140.250000</td>\n",
              "      <td>80.000000</td>\n",
              "      <td>33.000000</td>\n",
              "      <td>125.250000</td>\n",
              "      <td>36.500000</td>\n",
              "      <td>0.608500</td>\n",
              "      <td>40.000000</td>\n",
              "      <td>0.738750</td>\n",
              "      <td>0.743000</td>\n",
              "      <td>NaN</td>\n",
              "    </tr>\n",
              "    <tr>\n",
              "      <th>max</th>\n",
              "      <td>15.000000</td>\n",
              "      <td>198.000000</td>\n",
              "      <td>122.000000</td>\n",
              "      <td>99.000000</td>\n",
              "      <td>846.000000</td>\n",
              "      <td>55.000000</td>\n",
              "      <td>2.329000</td>\n",
              "      <td>81.000000</td>\n",
              "      <td>0.998000</td>\n",
              "      <td>0.999000</td>\n",
              "      <td>NaN</td>\n",
              "    </tr>\n",
              "  </tbody>\n",
              "</table>\n",
              "</div>"
            ],
            "text/plain": [
              "          pregnant      plasma   diastolic  ...       alea1       alea2   diabete\n",
              "count   568.000000  568.000000  568.000000  ...  568.000000  568.000000       568\n",
              "unique         NaN         NaN         NaN  ...         NaN         NaN         2\n",
              "top            NaN         NaN         NaN  ...         NaN         NaN  negative\n",
              "freq           NaN         NaN         NaN  ...         NaN         NaN       372\n",
              "mean      3.778169  120.279930   69.274648  ...    0.495176    0.507048       NaN\n",
              "std       3.343384   32.341609   18.724643  ...    0.285181    0.283315       NaN\n",
              "min       0.000000    0.000000    0.000000  ...    0.008000    0.002000       NaN\n",
              "25%       1.000000   99.000000   64.000000  ...    0.242750    0.281000       NaN\n",
              "50%       3.000000  115.000000   72.000000  ...    0.484500    0.513000       NaN\n",
              "75%       6.000000  140.250000   80.000000  ...    0.738750    0.743000       NaN\n",
              "max      15.000000  198.000000  122.000000  ...    0.998000    0.999000       NaN\n",
              "\n",
              "[11 rows x 11 columns]"
            ]
          },
          "metadata": {
            "tags": []
          },
          "execution_count": 222
        }
      ]
    },
    {
      "cell_type": "code",
      "metadata": {
        "colab": {
          "base_uri": "https://localhost:8080/"
        },
        "id": "j5bQJkFDv_eC",
        "outputId": "2c49c30e-5575-4cc2-b511-2647c82eb60c"
      },
      "source": [
        "diabete.info()"
      ],
      "execution_count": 223,
      "outputs": [
        {
          "output_type": "stream",
          "text": [
            "<class 'pandas.core.frame.DataFrame'>\n",
            "RangeIndex: 568 entries, 0 to 567\n",
            "Data columns (total 11 columns):\n",
            " #   Column     Non-Null Count  Dtype  \n",
            "---  ------     --------------  -----  \n",
            " 0   pregnant   568 non-null    int64  \n",
            " 1   plasma     568 non-null    int64  \n",
            " 2   diastolic  568 non-null    int64  \n",
            " 3   triceps    568 non-null    int64  \n",
            " 4   serum      568 non-null    int64  \n",
            " 5   bodymass   568 non-null    float64\n",
            " 6   pedigree   568 non-null    float64\n",
            " 7   age        568 non-null    int64  \n",
            " 8   alea1      568 non-null    float64\n",
            " 9   alea2      568 non-null    float64\n",
            " 10  diabete    568 non-null    object \n",
            "dtypes: float64(4), int64(6), object(1)\n",
            "memory usage: 48.9+ KB\n"
          ],
          "name": "stdout"
        }
      ]
    },
    {
      "cell_type": "code",
      "metadata": {
        "id": "7yZbgZsNwLdR",
        "colab": {
          "base_uri": "https://localhost:8080/"
        },
        "outputId": "99188916-c447-47a5-94d1-6024e89a4443"
      },
      "source": [
        "compte_diabete=diabete[\"diabete\"].value_counts()\n",
        "compte_diabete.index"
      ],
      "execution_count": 224,
      "outputs": [
        {
          "output_type": "execute_result",
          "data": {
            "text/plain": [
              "Index(['negative', 'positive'], dtype='object')"
            ]
          },
          "metadata": {
            "tags": []
          },
          "execution_count": 224
        }
      ]
    },
    {
      "cell_type": "code",
      "metadata": {
        "id": "ZcdMG4QWwi0A"
      },
      "source": [
        "from sklearn.linear_model import LogisticRegression\n",
        "from sklearn.model_selection import train_test_split as tts"
      ],
      "execution_count": 225,
      "outputs": []
    },
    {
      "cell_type": "code",
      "metadata": {
        "id": "2aKdzmfyzHRV"
      },
      "source": [
        "import timeit\n",
        "start_time=timeit.default_timer()"
      ],
      "execution_count": 226,
      "outputs": []
    },
    {
      "cell_type": "code",
      "metadata": {
        "id": "XO-9S0rYwqac"
      },
      "source": [
        "Lr=LogisticRegression()"
      ],
      "execution_count": 227,
      "outputs": []
    },
    {
      "cell_type": "code",
      "metadata": {
        "id": "piLnJSH2wvPu"
      },
      "source": [
        "x_train,x_test,y_train,y_test=tts(diabete.iloc[:,:-1],diabete[\"diabete\"])"
      ],
      "execution_count": 228,
      "outputs": []
    },
    {
      "cell_type": "code",
      "metadata": {
        "colab": {
          "base_uri": "https://localhost:8080/"
        },
        "id": "uQS6DRM7yIEL",
        "outputId": "45bfb9ca-8e4a-4f9b-c6a6-101271cf7dbf"
      },
      "source": [
        "Lr.fit(x_train,y_train)"
      ],
      "execution_count": 229,
      "outputs": [
        {
          "output_type": "stream",
          "text": [
            "/usr/local/lib/python3.6/dist-packages/sklearn/linear_model/_logistic.py:940: ConvergenceWarning: lbfgs failed to converge (status=1):\n",
            "STOP: TOTAL NO. of ITERATIONS REACHED LIMIT.\n",
            "\n",
            "Increase the number of iterations (max_iter) or scale the data as shown in:\n",
            "    https://scikit-learn.org/stable/modules/preprocessing.html\n",
            "Please also refer to the documentation for alternative solver options:\n",
            "    https://scikit-learn.org/stable/modules/linear_model.html#logistic-regression\n",
            "  extra_warning_msg=_LOGISTIC_SOLVER_CONVERGENCE_MSG)\n"
          ],
          "name": "stderr"
        },
        {
          "output_type": "execute_result",
          "data": {
            "text/plain": [
              "LogisticRegression(C=1.0, class_weight=None, dual=False, fit_intercept=True,\n",
              "                   intercept_scaling=1, l1_ratio=None, max_iter=100,\n",
              "                   multi_class='auto', n_jobs=None, penalty='l2',\n",
              "                   random_state=None, solver='lbfgs', tol=0.0001, verbose=0,\n",
              "                   warm_start=False)"
            ]
          },
          "metadata": {
            "tags": []
          },
          "execution_count": 229
        }
      ]
    },
    {
      "cell_type": "code",
      "metadata": {
        "id": "19R-W7v3yPy4"
      },
      "source": [
        "y_pred=Lr.predict(x_test)"
      ],
      "execution_count": 230,
      "outputs": []
    },
    {
      "cell_type": "code",
      "metadata": {
        "id": "gCPUbBaUy8jY"
      },
      "source": [
        "elapsed=timeit.default_timer()-start_time"
      ],
      "execution_count": 231,
      "outputs": []
    },
    {
      "cell_type": "code",
      "metadata": {
        "colab": {
          "base_uri": "https://localhost:8080/"
        },
        "id": "VAggLgsnyz5f",
        "outputId": "ad4aece5-89fa-4d50-cb61-e503d69f0295"
      },
      "source": [
        "from sklearn.metrics import accuracy_score\n",
        "print(\"accuracy:{:.2%}, time: {:.2f}\".format(accuracy_score(y_test,y_pred),elapsed))"
      ],
      "execution_count": 232,
      "outputs": [
        {
          "output_type": "stream",
          "text": [
            "accuracy:76.06%, time: 0.09\n"
          ],
          "name": "stdout"
        }
      ]
    }
  ]
}