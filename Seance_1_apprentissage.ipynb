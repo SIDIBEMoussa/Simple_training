{
  "nbformat": 4,
  "nbformat_minor": 0,
  "metadata": {
    "colab": {
      "name": "Seance 1 apprentissage.ipynb",
      "provenance": [],
      "collapsed_sections": [],
      "authorship_tag": "ABX9TyM6IQ8rFGjlG/rrV5fEPvau",
      "include_colab_link": true
    },
    "kernelspec": {
      "name": "python3",
      "display_name": "Python 3"
    }
  },
  "cells": [
    {
      "cell_type": "markdown",
      "metadata": {
        "id": "view-in-github",
        "colab_type": "text"
      },
      "source": [
        "<a href=\"https://colab.research.google.com/github/SIDIBEMoussa/Simple_training/blob/main/Seance_1_apprentissage.ipynb\" target=\"_parent\"><img src=\"https://colab.research.google.com/assets/colab-badge.svg\" alt=\"Open In Colab\"/></a>"
      ]
    },
    {
      "cell_type": "code",
      "metadata": {
        "id": "pZIyA9heHTLV"
      },
      "source": [
        "import pandas as pd"
      ],
      "execution_count": 149,
      "outputs": []
    },
    {
      "cell_type": "code",
      "metadata": {
        "id": "2MYSUlgbHaV1"
      },
      "source": [
        "data=pd.read_table(\"vehicules1.txt\",header=0,sep=\"\\t\")"
      ],
      "execution_count": 150,
      "outputs": []
    },
    {
      "cell_type": "code",
      "metadata": {
        "colab": {
          "base_uri": "https://localhost:8080/",
          "height": 204
        },
        "id": "qtpDIg9lHvEo",
        "outputId": "d287dda7-e1aa-4c2f-d111-a8ac95b2fcc2"
      },
      "source": [
        "data.head()"
      ],
      "execution_count": 151,
      "outputs": [
        {
          "output_type": "execute_result",
          "data": {
            "text/html": [
              "<div>\n",
              "<style scoped>\n",
              "    .dataframe tbody tr th:only-of-type {\n",
              "        vertical-align: middle;\n",
              "    }\n",
              "\n",
              "    .dataframe tbody tr th {\n",
              "        vertical-align: top;\n",
              "    }\n",
              "\n",
              "    .dataframe thead th {\n",
              "        text-align: right;\n",
              "    }\n",
              "</style>\n",
              "<table border=\"1\" class=\"dataframe\">\n",
              "  <thead>\n",
              "    <tr style=\"text-align: right;\">\n",
              "      <th></th>\n",
              "      <th>modele</th>\n",
              "      <th>cylindree</th>\n",
              "      <th>puissance</th>\n",
              "      <th>poids</th>\n",
              "      <th>conso</th>\n",
              "    </tr>\n",
              "  </thead>\n",
              "  <tbody>\n",
              "    <tr>\n",
              "      <th>0</th>\n",
              "      <td>Maserati Ghibli GT</td>\n",
              "      <td>2789</td>\n",
              "      <td>209</td>\n",
              "      <td>1485</td>\n",
              "      <td>14.5</td>\n",
              "    </tr>\n",
              "    <tr>\n",
              "      <th>1</th>\n",
              "      <td>Daihatsu Cuore</td>\n",
              "      <td>846</td>\n",
              "      <td>32</td>\n",
              "      <td>650</td>\n",
              "      <td>5.7</td>\n",
              "    </tr>\n",
              "    <tr>\n",
              "      <th>2</th>\n",
              "      <td>Toyota Corolla</td>\n",
              "      <td>1331</td>\n",
              "      <td>55</td>\n",
              "      <td>1010</td>\n",
              "      <td>7.1</td>\n",
              "    </tr>\n",
              "    <tr>\n",
              "      <th>3</th>\n",
              "      <td>Fort Escort 1.4i PT</td>\n",
              "      <td>1390</td>\n",
              "      <td>54</td>\n",
              "      <td>1110</td>\n",
              "      <td>8.6</td>\n",
              "    </tr>\n",
              "    <tr>\n",
              "      <th>4</th>\n",
              "      <td>Mazda Hachtback V</td>\n",
              "      <td>2497</td>\n",
              "      <td>122</td>\n",
              "      <td>1330</td>\n",
              "      <td>10.8</td>\n",
              "    </tr>\n",
              "  </tbody>\n",
              "</table>\n",
              "</div>"
            ],
            "text/plain": [
              "                modele  cylindree  puissance  poids  conso\n",
              "0   Maserati Ghibli GT       2789        209   1485   14.5\n",
              "1       Daihatsu Cuore        846         32    650    5.7\n",
              "2       Toyota Corolla       1331         55   1010    7.1\n",
              "3  Fort Escort 1.4i PT       1390         54   1110    8.6\n",
              "4    Mazda Hachtback V       2497        122   1330   10.8"
            ]
          },
          "metadata": {
            "tags": []
          },
          "execution_count": 151
        }
      ]
    },
    {
      "cell_type": "code",
      "metadata": {
        "colab": {
          "base_uri": "https://localhost:8080/"
        },
        "id": "Y2NnRk3uJHJq",
        "outputId": "de1a591c-951a-4a2b-bd35-6d0683e3f874"
      },
      "source": [
        "data.shape"
      ],
      "execution_count": 152,
      "outputs": [
        {
          "output_type": "execute_result",
          "data": {
            "text/plain": [
              "(25, 5)"
            ]
          },
          "metadata": {
            "tags": []
          },
          "execution_count": 152
        }
      ]
    },
    {
      "cell_type": "code",
      "metadata": {
        "colab": {
          "base_uri": "https://localhost:8080/"
        },
        "id": "arE6shm2JMT-",
        "outputId": "8aae1ae7-2113-4b64-8a63-1cfe0c069032"
      },
      "source": [
        "data.columns"
      ],
      "execution_count": 153,
      "outputs": [
        {
          "output_type": "execute_result",
          "data": {
            "text/plain": [
              "Index(['modele', 'cylindree', 'puissance', 'poids', 'conso'], dtype='object')"
            ]
          },
          "metadata": {
            "tags": []
          },
          "execution_count": 153
        }
      ]
    },
    {
      "cell_type": "code",
      "metadata": {
        "colab": {
          "base_uri": "https://localhost:8080/"
        },
        "id": "LxiMgf0YNvlE",
        "outputId": "6770b76e-74da-4910-a997-661f7185a61f"
      },
      "source": [
        "stat_desc=data.describe().round(1)\n",
        "print(stat_desc)"
      ],
      "execution_count": 154,
      "outputs": [
        {
          "output_type": "stream",
          "text": [
            "       cylindree  puissance   poids  conso\n",
            "count       25.0       25.0    25.0   25.0\n",
            "mean      2028.6       91.4  1257.8    9.6\n",
            "std       1036.8       59.6   366.0    3.1\n",
            "min        846.0       29.0   650.0    5.7\n",
            "25%       1390.0       55.0  1010.0    7.1\n",
            "50%       1984.0       85.0  1155.0    9.0\n",
            "75%       2438.0      106.0  1500.0   11.7\n",
            "max       5987.0      300.0  2250.0   18.7\n"
          ],
          "name": "stdout"
        }
      ]
    },
    {
      "cell_type": "code",
      "metadata": {
        "colab": {
          "base_uri": "https://localhost:8080/",
          "height": 173
        },
        "id": "HNJTuPc-OETr",
        "outputId": "878b4cfe-921b-4819-d488-b2a2ba335092"
      },
      "source": [
        "data.corr().round(1)"
      ],
      "execution_count": 155,
      "outputs": [
        {
          "output_type": "execute_result",
          "data": {
            "text/html": [
              "<div>\n",
              "<style scoped>\n",
              "    .dataframe tbody tr th:only-of-type {\n",
              "        vertical-align: middle;\n",
              "    }\n",
              "\n",
              "    .dataframe tbody tr th {\n",
              "        vertical-align: top;\n",
              "    }\n",
              "\n",
              "    .dataframe thead th {\n",
              "        text-align: right;\n",
              "    }\n",
              "</style>\n",
              "<table border=\"1\" class=\"dataframe\">\n",
              "  <thead>\n",
              "    <tr style=\"text-align: right;\">\n",
              "      <th></th>\n",
              "      <th>cylindree</th>\n",
              "      <th>puissance</th>\n",
              "      <th>poids</th>\n",
              "      <th>conso</th>\n",
              "    </tr>\n",
              "  </thead>\n",
              "  <tbody>\n",
              "    <tr>\n",
              "      <th>cylindree</th>\n",
              "      <td>1.0</td>\n",
              "      <td>0.9</td>\n",
              "      <td>0.9</td>\n",
              "      <td>0.9</td>\n",
              "    </tr>\n",
              "    <tr>\n",
              "      <th>puissance</th>\n",
              "      <td>0.9</td>\n",
              "      <td>1.0</td>\n",
              "      <td>0.8</td>\n",
              "      <td>0.9</td>\n",
              "    </tr>\n",
              "    <tr>\n",
              "      <th>poids</th>\n",
              "      <td>0.9</td>\n",
              "      <td>0.8</td>\n",
              "      <td>1.0</td>\n",
              "      <td>0.9</td>\n",
              "    </tr>\n",
              "    <tr>\n",
              "      <th>conso</th>\n",
              "      <td>0.9</td>\n",
              "      <td>0.9</td>\n",
              "      <td>0.9</td>\n",
              "      <td>1.0</td>\n",
              "    </tr>\n",
              "  </tbody>\n",
              "</table>\n",
              "</div>"
            ],
            "text/plain": [
              "           cylindree  puissance  poids  conso\n",
              "cylindree        1.0        0.9    0.9    0.9\n",
              "puissance        0.9        1.0    0.8    0.9\n",
              "poids            0.9        0.8    1.0    0.9\n",
              "conso            0.9        0.9    0.9    1.0"
            ]
          },
          "metadata": {
            "tags": []
          },
          "execution_count": 155
        }
      ]
    },
    {
      "cell_type": "markdown",
      "metadata": {
        "id": "jsXdIC27JTZt"
      },
      "source": [
        "Nous avions 25 observations pour 5 variables"
      ]
    },
    {
      "cell_type": "code",
      "metadata": {
        "id": "NB4QaDOIH7LD"
      },
      "source": [
        "import seaborn as sns"
      ],
      "execution_count": 156,
      "outputs": []
    },
    {
      "cell_type": "code",
      "metadata": {
        "colab": {
          "base_uri": "https://localhost:8080/",
          "height": 743
        },
        "id": "ad560DgvIBzP",
        "outputId": "3c7fe835-cc40-4f92-8d7c-01df370d2b7c"
      },
      "source": [
        "sns.pairplot(data)"
      ],
      "execution_count": 157,
      "outputs": [
        {
          "output_type": "execute_result",
          "data": {
            "text/plain": [
              "<seaborn.axisgrid.PairGrid at 0x7faaa7732eb8>"
            ]
          },
          "metadata": {
            "tags": []
          },
          "execution_count": 157
        },
        {
          "output_type": "display_data",
          "data": {
            "image/png": "[encoded data removed]",
            "text/plain": [
              "<Figure size 720x720 with 20 Axes>"
            ]
          },
          "metadata": {
            "tags": [],
            "needs_background": "light"
          }
        }
      ]
    },
    {
      "cell_type": "markdown",
      "metadata": {
        "id": "S4t9rIy_IQpJ"
      },
      "source": [
        "D'une manière générale nous observons une dépendance linéaire illustrer les le ploting ci-dessus"
      ]
    },
    {
      "cell_type": "markdown",
      "metadata": {
        "id": "Nykyh2VhJtrF"
      },
      "source": [
        "Dans cette partie je vais essayer d'élaboirer une régréssion linéaire simple pour expliquer la consommation en fonction de puissance du moteur"
      ]
    },
    {
      "cell_type": "code",
      "metadata": {
        "colab": {
          "base_uri": "https://localhost:8080/",
          "height": 458
        },
        "id": "GN6ZxlZvQ2gx",
        "outputId": "24252f33-d073-4b6e-94b1-ba9ddc053e69"
      },
      "source": [
        "sns.jointplot(x=\"puissance\",y=\"conso\",data=data)"
      ],
      "execution_count": 158,
      "outputs": [
        {
          "output_type": "execute_result",
          "data": {
            "text/plain": [
              "<seaborn.axisgrid.JointGrid at 0x7faaa6f46da0>"
            ]
          },
          "metadata": {
            "tags": []
          },
          "execution_count": 158
        },
        {
          "output_type": "display_data",
          "data": {
            "image/png": "[encoded data removed]",
            "text/plain": [
              "<Figure size 432x432 with 3 Axes>"
            ]
          },
          "metadata": {
            "tags": [],
            "needs_background": "light"
          }
        }
      ]
    },
    {
      "cell_type": "code",
      "metadata": {
        "id": "W9Ua7xIwLfVB"
      },
      "source": [
        "import statsmodels.formula.api as stats"
      ],
      "execution_count": 159,
      "outputs": []
    },
    {
      "cell_type": "code",
      "metadata": {
        "id": "TVyxyKe8RX4H"
      },
      "source": [
        "regression=stats.ols(\"conso~puissance+cylindree+poids\",data=data)"
      ],
      "execution_count": 160,
      "outputs": []
    },
    {
      "cell_type": "code",
      "metadata": {
        "id": "P8OSYjJjSIoh"
      },
      "source": [
        "resultat=regression.fit()"
      ],
      "execution_count": 161,
      "outputs": []
    },
    {
      "cell_type": "code",
      "metadata": {
        "colab": {
          "base_uri": "https://localhost:8080/"
        },
        "id": "4eoIRFybTLfl",
        "outputId": "a77b67b1-fc30-4f17-b87d-4e266f4bdf7e"
      },
      "source": [
        "print(dir(resultat))"
      ],
      "execution_count": 162,
      "outputs": [
        {
          "output_type": "stream",
          "text": [
            "['HC0_se', 'HC1_se', 'HC2_se', 'HC3_se', '_HCCM', '__class__', '__delattr__', '__dict__', '__dir__', '__doc__', '__eq__', '__format__', '__ge__', '__getattribute__', '__gt__', '__hash__', '__init__', '__init_subclass__', '__le__', '__lt__', '__module__', '__ne__', '__new__', '__reduce__', '__reduce_ex__', '__repr__', '__setattr__', '__sizeof__', '__str__', '__subclasshook__', '__weakref__', '_cache', '_data_attr', '_get_robustcov_results', '_is_nested', '_wexog_singular_values', 'aic', 'bic', 'bse', 'centered_tss', 'compare_f_test', 'compare_lm_test', 'compare_lr_test', 'condition_number', 'conf_int', 'conf_int_el', 'cov_HC0', 'cov_HC1', 'cov_HC2', 'cov_HC3', 'cov_kwds', 'cov_params', 'cov_type', 'df_model', 'df_resid', 'eigenvals', 'el_test', 'ess', 'f_pvalue', 'f_test', 'fittedvalues', 'fvalue', 'get_influence', 'get_prediction', 'get_robustcov_results', 'initialize', 'k_constant', 'llf', 'load', 'model', 'mse_model', 'mse_resid', 'mse_total', 'nobs', 'normalized_cov_params', 'outlier_test', 'params', 'predict', 'pvalues', 'remove_data', 'resid', 'resid_pearson', 'rsquared', 'rsquared_adj', 'save', 'scale', 'ssr', 'summary', 'summary2', 't_test', 't_test_pairwise', 'tvalues', 'uncentered_tss', 'use_t', 'wald_test', 'wald_test_terms', 'wresid']\n"
          ],
          "name": "stdout"
        }
      ]
    },
    {
      "cell_type": "code",
      "metadata": {
        "colab": {
          "base_uri": "https://localhost:8080/",
          "height": 520
        },
        "id": "8gzyBm2vTQDT",
        "outputId": "a500a7ce-72a9-443b-853c-08e77c34d566"
      },
      "source": [
        "resultat.summary()"
      ],
      "execution_count": 163,
      "outputs": [
        {
          "output_type": "execute_result",
          "data": {
            "text/html": [
              "<table class=\"simpletable\">\n",
              "<caption>OLS Regression Results</caption>\n",
              "<tr>\n",
              "  <th>Dep. Variable:</th>          <td>conso</td>      <th>  R-squared:         </th> <td>   0.957</td>\n",
              "</tr>\n",
              "<tr>\n",
              "  <th>Model:</th>                   <td>OLS</td>       <th>  Adj. R-squared:    </th> <td>   0.951</td>\n",
              "</tr>\n",
              "<tr>\n",
              "  <th>Method:</th>             <td>Least Squares</td>  <th>  F-statistic:       </th> <td>   154.7</td>\n",
              "</tr>\n",
              "<tr>\n",
              "  <th>Date:</th>             <td>Thu, 21 Jan 2021</td> <th>  Prob (F-statistic):</th> <td>1.79e-14</td>\n",
              "</tr>\n",
              "<tr>\n",
              "  <th>Time:</th>                 <td>19:28:12</td>     <th>  Log-Likelihood:    </th> <td> -24.400</td>\n",
              "</tr>\n",
              "<tr>\n",
              "  <th>No. Observations:</th>      <td>    25</td>      <th>  AIC:               </th> <td>   56.80</td>\n",
              "</tr>\n",
              "<tr>\n",
              "  <th>Df Residuals:</th>          <td>    21</td>      <th>  BIC:               </th> <td>   61.68</td>\n",
              "</tr>\n",
              "<tr>\n",
              "  <th>Df Model:</th>              <td>     3</td>      <th>                     </th>     <td> </td>   \n",
              "</tr>\n",
              "<tr>\n",
              "  <th>Covariance Type:</th>      <td>nonrobust</td>    <th>                     </th>     <td> </td>   \n",
              "</tr>\n",
              "</table>\n",
              "<table class=\"simpletable\">\n",
              "<tr>\n",
              "      <td></td>         <th>coef</th>     <th>std err</th>      <th>t</th>      <th>P>|t|</th>  <th>[0.025</th>    <th>0.975]</th>  \n",
              "</tr>\n",
              "<tr>\n",
              "  <th>Intercept</th> <td>    1.2998</td> <td>    0.614</td> <td>    2.117</td> <td> 0.046</td> <td>    0.023</td> <td>    2.577</td>\n",
              "</tr>\n",
              "<tr>\n",
              "  <th>puissance</th> <td>    0.0303</td> <td>    0.007</td> <td>    4.052</td> <td> 0.001</td> <td>    0.015</td> <td>    0.046</td>\n",
              "</tr>\n",
              "<tr>\n",
              "  <th>cylindree</th> <td>   -0.0005</td> <td>    0.000</td> <td>   -0.953</td> <td> 0.351</td> <td>   -0.002</td> <td>    0.001</td>\n",
              "</tr>\n",
              "<tr>\n",
              "  <th>poids</th>     <td>    0.0052</td> <td>    0.001</td> <td>    6.447</td> <td> 0.000</td> <td>    0.004</td> <td>    0.007</td>\n",
              "</tr>\n",
              "</table>\n",
              "<table class=\"simpletable\">\n",
              "<tr>\n",
              "  <th>Omnibus:</th>       <td> 0.799</td> <th>  Durbin-Watson:     </th> <td>   2.419</td>\n",
              "</tr>\n",
              "<tr>\n",
              "  <th>Prob(Omnibus):</th> <td> 0.671</td> <th>  Jarque-Bera (JB):  </th> <td>   0.772</td>\n",
              "</tr>\n",
              "<tr>\n",
              "  <th>Skew:</th>          <td>-0.369</td> <th>  Prob(JB):          </th> <td>   0.680</td>\n",
              "</tr>\n",
              "<tr>\n",
              "  <th>Kurtosis:</th>      <td> 2.558</td> <th>  Cond. No.          </th> <td>1.14e+04</td>\n",
              "</tr>\n",
              "</table><br/><br/>Warnings:<br/>[1] Standard Errors assume that the covariance matrix of the errors is correctly specified.<br/>[2] The condition number is large, 1.14e+04. This might indicate that there are<br/>strong multicollinearity or other numerical problems."
            ],
            "text/plain": [
              "<class 'statsmodels.iolib.summary.Summary'>\n",
              "\"\"\"\n",
              "                            OLS Regression Results                            \n",
              "==============================================================================\n",
              "Dep. Variable:                  conso   R-squared:                       0.957\n",
              "Model:                            OLS   Adj. R-squared:                  0.951\n",
              "Method:                 Least Squares   F-statistic:                     154.7\n",
              "Date:                Thu, 21 Jan 2021   Prob (F-statistic):           1.79e-14\n",
              "Time:                        19:28:12   Log-Likelihood:                -24.400\n",
              "No. Observations:                  25   AIC:                             56.80\n",
              "Df Residuals:                      21   BIC:                             61.68\n",
              "Df Model:                           3                                         \n",
              "Covariance Type:            nonrobust                                         \n",
              "==============================================================================\n",
              "                 coef    std err          t      P>|t|      [0.025      0.975]\n",
              "------------------------------------------------------------------------------\n",
              "Intercept      1.2998      0.614      2.117      0.046       0.023       2.577\n",
              "puissance      0.0303      0.007      4.052      0.001       0.015       0.046\n",
              "cylindree     -0.0005      0.000     -0.953      0.351      -0.002       0.001\n",
              "poids          0.0052      0.001      6.447      0.000       0.004       0.007\n",
              "==============================================================================\n",
              "Omnibus:                        0.799   Durbin-Watson:                   2.419\n",
              "Prob(Omnibus):                  0.671   Jarque-Bera (JB):                0.772\n",
              "Skew:                          -0.369   Prob(JB):                        0.680\n",
              "Kurtosis:                       2.558   Cond. No.                     1.14e+04\n",
              "==============================================================================\n",
              "\n",
              "Warnings:\n",
              "[1] Standard Errors assume that the covariance matrix of the errors is correctly specified.\n",
              "[2] The condition number is large, 1.14e+04. This might indicate that there are\n",
              "strong multicollinearity or other numerical problems.\n",
              "\"\"\""
            ]
          },
          "metadata": {
            "tags": []
          },
          "execution_count": 163
        }
      ]
    },
    {
      "cell_type": "markdown",
      "metadata": {
        "id": "_aDysa1uWyxW"
      },
      "source": [
        "Nous voyons un problème de multicolinéarité"
      ]
    },
    {
      "cell_type": "code",
      "metadata": {
        "id": "1_OX2o-IThZw"
      },
      "source": [
        "regression=stats.ols(\"conso~puissance\",data=data)"
      ],
      "execution_count": 164,
      "outputs": []
    },
    {
      "cell_type": "code",
      "metadata": {
        "id": "SwHCiIkjW-fO"
      },
      "source": [
        "resultat=regression.fit()"
      ],
      "execution_count": 165,
      "outputs": []
    },
    {
      "cell_type": "code",
      "metadata": {
        "colab": {
          "base_uri": "https://localhost:8080/",
          "height": 444
        },
        "id": "0pJfgngqXBsS",
        "outputId": "1b37f9e4-b8c6-4a78-e738-1856961c30c8"
      },
      "source": [
        "resultat.summary()"
      ],
      "execution_count": 166,
      "outputs": [
        {
          "output_type": "execute_result",
          "data": {
            "text/html": [
              "<table class=\"simpletable\">\n",
              "<caption>OLS Regression Results</caption>\n",
              "<tr>\n",
              "  <th>Dep. Variable:</th>          <td>conso</td>      <th>  R-squared:         </th> <td>   0.856</td>\n",
              "</tr>\n",
              "<tr>\n",
              "  <th>Model:</th>                   <td>OLS</td>       <th>  Adj. R-squared:    </th> <td>   0.850</td>\n",
              "</tr>\n",
              "<tr>\n",
              "  <th>Method:</th>             <td>Least Squares</td>  <th>  F-statistic:       </th> <td>   137.2</td>\n",
              "</tr>\n",
              "<tr>\n",
              "  <th>Date:</th>             <td>Thu, 21 Jan 2021</td> <th>  Prob (F-statistic):</th> <td>3.57e-11</td>\n",
              "</tr>\n",
              "<tr>\n",
              "  <th>Time:</th>                 <td>19:28:12</td>     <th>  Log-Likelihood:    </th> <td> -39.382</td>\n",
              "</tr>\n",
              "<tr>\n",
              "  <th>No. Observations:</th>      <td>    25</td>      <th>  AIC:               </th> <td>   82.76</td>\n",
              "</tr>\n",
              "<tr>\n",
              "  <th>Df Residuals:</th>          <td>    23</td>      <th>  BIC:               </th> <td>   85.20</td>\n",
              "</tr>\n",
              "<tr>\n",
              "  <th>Df Model:</th>              <td>     1</td>      <th>                     </th>     <td> </td>   \n",
              "</tr>\n",
              "<tr>\n",
              "  <th>Covariance Type:</th>      <td>nonrobust</td>    <th>                     </th>     <td> </td>   \n",
              "</tr>\n",
              "</table>\n",
              "<table class=\"simpletable\">\n",
              "<tr>\n",
              "      <td></td>         <th>coef</th>     <th>std err</th>      <th>t</th>      <th>P>|t|</th>  <th>[0.025</th>    <th>0.975]</th>  \n",
              "</tr>\n",
              "<tr>\n",
              "  <th>Intercept</th> <td>    5.1767</td> <td>    0.453</td> <td>   11.430</td> <td> 0.000</td> <td>    4.240</td> <td>    6.114</td>\n",
              "</tr>\n",
              "<tr>\n",
              "  <th>puissance</th> <td>    0.0489</td> <td>    0.004</td> <td>   11.715</td> <td> 0.000</td> <td>    0.040</td> <td>    0.058</td>\n",
              "</tr>\n",
              "</table>\n",
              "<table class=\"simpletable\">\n",
              "<tr>\n",
              "  <th>Omnibus:</th>       <td> 3.785</td> <th>  Durbin-Watson:     </th> <td>   1.830</td>\n",
              "</tr>\n",
              "<tr>\n",
              "  <th>Prob(Omnibus):</th> <td> 0.151</td> <th>  Jarque-Bera (JB):  </th> <td>   3.155</td>\n",
              "</tr>\n",
              "<tr>\n",
              "  <th>Skew:</th>          <td> 0.857</td> <th>  Prob(JB):          </th> <td>   0.207</td>\n",
              "</tr>\n",
              "<tr>\n",
              "  <th>Kurtosis:</th>      <td> 2.694</td> <th>  Cond. No.          </th> <td>    202.</td>\n",
              "</tr>\n",
              "</table><br/><br/>Warnings:<br/>[1] Standard Errors assume that the covariance matrix of the errors is correctly specified."
            ],
            "text/plain": [
              "<class 'statsmodels.iolib.summary.Summary'>\n",
              "\"\"\"\n",
              "                            OLS Regression Results                            \n",
              "==============================================================================\n",
              "Dep. Variable:                  conso   R-squared:                       0.856\n",
              "Model:                            OLS   Adj. R-squared:                  0.850\n",
              "Method:                 Least Squares   F-statistic:                     137.2\n",
              "Date:                Thu, 21 Jan 2021   Prob (F-statistic):           3.57e-11\n",
              "Time:                        19:28:12   Log-Likelihood:                -39.382\n",
              "No. Observations:                  25   AIC:                             82.76\n",
              "Df Residuals:                      23   BIC:                             85.20\n",
              "Df Model:                           1                                         \n",
              "Covariance Type:            nonrobust                                         \n",
              "==============================================================================\n",
              "                 coef    std err          t      P>|t|      [0.025      0.975]\n",
              "------------------------------------------------------------------------------\n",
              "Intercept      5.1767      0.453     11.430      0.000       4.240       6.114\n",
              "puissance      0.0489      0.004     11.715      0.000       0.040       0.058\n",
              "==============================================================================\n",
              "Omnibus:                        3.785   Durbin-Watson:                   1.830\n",
              "Prob(Omnibus):                  0.151   Jarque-Bera (JB):                3.155\n",
              "Skew:                           0.857   Prob(JB):                        0.207\n",
              "Kurtosis:                       2.694   Cond. No.                         202.\n",
              "==============================================================================\n",
              "\n",
              "Warnings:\n",
              "[1] Standard Errors assume that the covariance matrix of the errors is correctly specified.\n",
              "\"\"\""
            ]
          },
          "metadata": {
            "tags": []
          },
          "execution_count": 166
        }
      ]
    },
    {
      "cell_type": "code",
      "metadata": {
        "colab": {
          "base_uri": "https://localhost:8080/"
        },
        "id": "mvVsWxCVXfFP",
        "outputId": "c3183b35-c928-494c-8b1a-da9d89fa8913"
      },
      "source": [
        "resultat.params"
      ],
      "execution_count": 167,
      "outputs": [
        {
          "output_type": "execute_result",
          "data": {
            "text/plain": [
              "Intercept    5.176714\n",
              "puissance    0.048899\n",
              "dtype: float64"
            ]
          },
          "metadata": {
            "tags": []
          },
          "execution_count": 167
        }
      ]
    },
    {
      "cell_type": "code",
      "metadata": {
        "id": "_LFuQnYTXPYq"
      },
      "source": [
        "pvalue=resultat.pvalues"
      ],
      "execution_count": 168,
      "outputs": []
    },
    {
      "cell_type": "code",
      "metadata": {
        "colab": {
          "base_uri": "https://localhost:8080/"
        },
        "id": "NSeTj1pdXZcd",
        "outputId": "31390b23-0719-4a67-98fc-e63be8898fb5"
      },
      "source": [
        "pvalue"
      ],
      "execution_count": 169,
      "outputs": [
        {
          "output_type": "execute_result",
          "data": {
            "text/plain": [
              "Intercept    5.799283e-11\n",
              "puissance    3.567074e-11\n",
              "dtype: float64"
            ]
          },
          "metadata": {
            "tags": []
          },
          "execution_count": 169
        }
      ]
    },
    {
      "cell_type": "code",
      "metadata": {
        "id": "_JFK3YQ8XbKV"
      },
      "source": [
        "prevision=resultat.predict()"
      ],
      "execution_count": 170,
      "outputs": []
    },
    {
      "cell_type": "code",
      "metadata": {
        "id": "vk8l-TU1YO5q"
      },
      "source": [
        "data[\"prevision\"]=prevision"
      ],
      "execution_count": 171,
      "outputs": []
    },
    {
      "cell_type": "code",
      "metadata": {
        "colab": {
          "base_uri": "https://localhost:8080/",
          "height": 204
        },
        "id": "unaTcJ64Yh2U",
        "outputId": "0d21cc9e-6868-44ba-c88d-d7457952e87f"
      },
      "source": [
        "data.head()"
      ],
      "execution_count": 172,
      "outputs": [
        {
          "output_type": "execute_result",
          "data": {
            "text/html": [
              "<div>\n",
              "<style scoped>\n",
              "    .dataframe tbody tr th:only-of-type {\n",
              "        vertical-align: middle;\n",
              "    }\n",
              "\n",
              "    .dataframe tbody tr th {\n",
              "        vertical-align: top;\n",
              "    }\n",
              "\n",
              "    .dataframe thead th {\n",
              "        text-align: right;\n",
              "    }\n",
              "</style>\n",
              "<table border=\"1\" class=\"dataframe\">\n",
              "  <thead>\n",
              "    <tr style=\"text-align: right;\">\n",
              "      <th></th>\n",
              "      <th>modele</th>\n",
              "      <th>cylindree</th>\n",
              "      <th>puissance</th>\n",
              "      <th>poids</th>\n",
              "      <th>conso</th>\n",
              "      <th>prevision</th>\n",
              "    </tr>\n",
              "  </thead>\n",
              "  <tbody>\n",
              "    <tr>\n",
              "      <th>0</th>\n",
              "      <td>Maserati Ghibli GT</td>\n",
              "      <td>2789</td>\n",
              "      <td>209</td>\n",
              "      <td>1485</td>\n",
              "      <td>14.5</td>\n",
              "      <td>15.396517</td>\n",
              "    </tr>\n",
              "    <tr>\n",
              "      <th>1</th>\n",
              "      <td>Daihatsu Cuore</td>\n",
              "      <td>846</td>\n",
              "      <td>32</td>\n",
              "      <td>650</td>\n",
              "      <td>5.7</td>\n",
              "      <td>6.741468</td>\n",
              "    </tr>\n",
              "    <tr>\n",
              "      <th>2</th>\n",
              "      <td>Toyota Corolla</td>\n",
              "      <td>1331</td>\n",
              "      <td>55</td>\n",
              "      <td>1010</td>\n",
              "      <td>7.1</td>\n",
              "      <td>7.866136</td>\n",
              "    </tr>\n",
              "    <tr>\n",
              "      <th>3</th>\n",
              "      <td>Fort Escort 1.4i PT</td>\n",
              "      <td>1390</td>\n",
              "      <td>54</td>\n",
              "      <td>1110</td>\n",
              "      <td>8.6</td>\n",
              "      <td>7.817237</td>\n",
              "    </tr>\n",
              "    <tr>\n",
              "      <th>4</th>\n",
              "      <td>Mazda Hachtback V</td>\n",
              "      <td>2497</td>\n",
              "      <td>122</td>\n",
              "      <td>1330</td>\n",
              "      <td>10.8</td>\n",
              "      <td>11.142341</td>\n",
              "    </tr>\n",
              "  </tbody>\n",
              "</table>\n",
              "</div>"
            ],
            "text/plain": [
              "                modele  cylindree  puissance  poids  conso  prevision\n",
              "0   Maserati Ghibli GT       2789        209   1485   14.5  15.396517\n",
              "1       Daihatsu Cuore        846         32    650    5.7   6.741468\n",
              "2       Toyota Corolla       1331         55   1010    7.1   7.866136\n",
              "3  Fort Escort 1.4i PT       1390         54   1110    8.6   7.817237\n",
              "4    Mazda Hachtback V       2497        122   1330   10.8  11.142341"
            ]
          },
          "metadata": {
            "tags": []
          },
          "execution_count": 172
        }
      ]
    },
    {
      "cell_type": "code",
      "metadata": {
        "colab": {
          "base_uri": "https://localhost:8080/"
        },
        "id": "YxNVznK0ZfkW",
        "outputId": "390ce369-f657-46b4-b21f-e3e8131d9354"
      },
      "source": [
        "data.prevision"
      ],
      "execution_count": 173,
      "outputs": [
        {
          "output_type": "execute_result",
          "data": {
            "text/plain": [
              "0     15.396517\n",
              "1      6.741468\n",
              "2      7.866136\n",
              "3      7.817237\n",
              "4     11.142341\n",
              "5     11.289036\n",
              "6      9.919876\n",
              "7     10.115470\n",
              "8      8.404020\n",
              "9      9.333093\n",
              "10     7.083759\n",
              "11    12.511501\n",
              "12    19.846288\n",
              "13    10.359963\n",
              "14     7.328251\n",
              "15    10.408862\n",
              "16     6.790367\n",
              "17     8.795209\n",
              "18     8.795209\n",
              "19     8.404020\n",
              "20     9.528687\n",
              "21     9.528687\n",
              "22     6.594773\n",
              "23     9.333093\n",
              "24     7.866136\n",
              "Name: prevision, dtype: float64"
            ]
          },
          "metadata": {
            "tags": []
          },
          "execution_count": 173
        }
      ]
    },
    {
      "cell_type": "code",
      "metadata": {
        "id": "dsi39uTeZ3oW"
      },
      "source": [
        ""
      ],
      "execution_count": 173,
      "outputs": []
    },
    {
      "cell_type": "code",
      "metadata": {
        "colab": {
          "base_uri": "https://localhost:8080/"
        },
        "id": "7fWUaIlqonWc",
        "outputId": "b70368a9-3b2a-40da-ca4d-747ed23f5e14"
      },
      "source": [
        "import torch \n",
        "from torch.autograd import Variable \n",
        "  \n",
        "x_data = Variable(torch.Tensor(data.puissance)) \n",
        "y_data = Variable(torch.Tensor(data.conso)) \n",
        "  \n",
        "  \n",
        "class LinearRegressionModel(torch.nn.Module): \n",
        "  \n",
        "    def __init__(self): \n",
        "        super(LinearRegressionModel, self).__init__() \n",
        "        self.linear = torch.nn.Linear(25, 1)  # One in and one out \n",
        "  \n",
        "    def forward(self, x): \n",
        "        y_pred = self.linear(x) \n",
        "        return y_pred \n",
        "  \n",
        "# our model \n",
        "our_model = LinearRegressionModel() \n",
        "  \n",
        "criterion = torch.nn.MSELoss(size_average = False) \n",
        "optimizer = torch.optim.SGD(our_model.parameters(), lr = 0.01) \n",
        "  \n",
        "for epoch in range(500): \n",
        "  \n",
        "    # Forward pass: Compute predicted y by passing  \n",
        "    # x to the model \n",
        "    pred_y = our_model(x_data) \n",
        "  \n",
        "    # Compute and print loss \n",
        "    loss = criterion(pred_y, y_data) \n",
        "  \n",
        "    # Zero gradients, perform a backward pass,  \n",
        "    # and update the weights. \n",
        "    optimizer.zero_grad() \n",
        "    loss.backward() \n",
        "    optimizer.step() \n",
        "    print('epoch {}, loss {}'.format(epoch, loss.item())) \n",
        "  "
      ],
      "execution_count": 178,
      "outputs": [
        {
          "output_type": "stream",
          "text": [
            "/usr/local/lib/python3.6/dist-packages/torch/nn/_reduction.py:44: UserWarning: size_average and reduce args will be deprecated, please use reduction='sum' instead.\n",
            "  warnings.warn(warning.format(ret))\n",
            "/usr/local/lib/python3.6/dist-packages/torch/nn/modules/loss.py:446: UserWarning: Using a target size (torch.Size([25])) that is different to the input size (torch.Size([1])). This will likely lead to incorrect results due to broadcasting. Please ensure they have the same size.\n",
            "  return F.mse_loss(input, target, reduction=self.reduction)\n"
          ],
          "name": "stderr"
        },
        {
          "output_type": "stream",
          "text": [
            "epoch 0, loss 83718.90625\n",
            "epoch 1, loss 1807828775862272.0\n",
            "epoch 2, loss 3.914964485147026e+25\n",
            "epoch 3, loss 8.478100297195283e+35\n",
            "epoch 4, loss inf\n",
            "epoch 5, loss inf\n",
            "epoch 6, loss inf\n",
            "epoch 7, loss inf\n",
            "epoch 8, loss inf\n",
            "epoch 9, loss nan\n",
            "epoch 10, loss nan\n",
            "epoch 11, loss nan\n",
            "epoch 12, loss nan\n",
            "epoch 13, loss nan\n",
            "epoch 14, loss nan\n",
            "epoch 15, loss nan\n",
            "epoch 16, loss nan\n",
            "epoch 17, loss nan\n",
            "epoch 18, loss nan\n",
            "epoch 19, loss nan\n",
            "epoch 20, loss nan\n",
            "epoch 21, loss nan\n",
            "epoch 22, loss nan\n",
            "epoch 23, loss nan\n",
            "epoch 24, loss nan\n",
            "epoch 25, loss nan\n",
            "epoch 26, loss nan\n",
            "epoch 27, loss nan\n",
            "epoch 28, loss nan\n",
            "epoch 29, loss nan\n",
            "epoch 30, loss nan\n",
            "epoch 31, loss nan\n",
            "epoch 32, loss nan\n",
            "epoch 33, loss nan\n",
            "epoch 34, loss nan\n",
            "epoch 35, loss nan\n",
            "epoch 36, loss nan\n",
            "epoch 37, loss nan\n",
            "epoch 38, loss nan\n",
            "epoch 39, loss nan\n",
            "epoch 40, loss nan\n",
            "epoch 41, loss nan\n",
            "epoch 42, loss nan\n",
            "epoch 43, loss nan\n",
            "epoch 44, loss nan\n",
            "epoch 45, loss nan\n",
            "epoch 46, loss nan\n",
            "epoch 47, loss nan\n",
            "epoch 48, loss nan\n",
            "epoch 49, loss nan\n",
            "epoch 50, loss nan\n",
            "epoch 51, loss nan\n",
            "epoch 52, loss nan\n",
            "epoch 53, loss nan\n",
            "epoch 54, loss nan\n",
            "epoch 55, loss nan\n",
            "epoch 56, loss nan\n",
            "epoch 57, loss nan\n",
            "epoch 58, loss nan\n",
            "epoch 59, loss nan\n",
            "epoch 60, loss nan\n",
            "epoch 61, loss nan\n",
            "epoch 62, loss nan\n",
            "epoch 63, loss nan\n",
            "epoch 64, loss nan\n",
            "epoch 65, loss nan\n",
            "epoch 66, loss nan\n",
            "epoch 67, loss nan\n",
            "epoch 68, loss nan\n",
            "epoch 69, loss nan\n",
            "epoch 70, loss nan\n",
            "epoch 71, loss nan\n",
            "epoch 72, loss nan\n",
            "epoch 73, loss nan\n",
            "epoch 74, loss nan\n",
            "epoch 75, loss nan\n",
            "epoch 76, loss nan\n",
            "epoch 77, loss nan\n",
            "epoch 78, loss nan\n",
            "epoch 79, loss nan\n",
            "epoch 80, loss nan\n",
            "epoch 81, loss nan\n",
            "epoch 82, loss nan\n",
            "epoch 83, loss nan\n",
            "epoch 84, loss nan\n",
            "epoch 85, loss nan\n",
            "epoch 86, loss nan\n",
            "epoch 87, loss nan\n",
            "epoch 88, loss nan\n",
            "epoch 89, loss nan\n",
            "epoch 90, loss nan\n",
            "epoch 91, loss nan\n",
            "epoch 92, loss nan\n",
            "epoch 93, loss nan\n",
            "epoch 94, loss nan\n",
            "epoch 95, loss nan\n",
            "epoch 96, loss nan\n",
            "epoch 97, loss nan\n",
            "epoch 98, loss nan\n",
            "epoch 99, loss nan\n",
            "epoch 100, loss nan\n",
            "epoch 101, loss nan\n",
            "epoch 102, loss nan\n",
            "epoch 103, loss nan\n",
            "epoch 104, loss nan\n",
            "epoch 105, loss nan\n",
            "epoch 106, loss nan\n",
            "epoch 107, loss nan\n",
            "epoch 108, loss nan\n",
            "epoch 109, loss nan\n",
            "epoch 110, loss nan\n",
            "epoch 111, loss nan\n",
            "epoch 112, loss nan\n",
            "epoch 113, loss nan\n",
            "epoch 114, loss nan\n",
            "epoch 115, loss nan\n",
            "epoch 116, loss nan\n",
            "epoch 117, loss nan\n",
            "epoch 118, loss nan\n",
            "epoch 119, loss nan\n",
            "epoch 120, loss nan\n",
            "epoch 121, loss nan\n",
            "epoch 122, loss nan\n",
            "epoch 123, loss nan\n",
            "epoch 124, loss nan\n",
            "epoch 125, loss nan\n",
            "epoch 126, loss nan\n",
            "epoch 127, loss nan\n",
            "epoch 128, loss nan\n",
            "epoch 129, loss nan\n",
            "epoch 130, loss nan\n",
            "epoch 131, loss nan\n",
            "epoch 132, loss nan\n",
            "epoch 133, loss nan\n",
            "epoch 134, loss nan\n",
            "epoch 135, loss nan\n",
            "epoch 136, loss nan\n",
            "epoch 137, loss nan\n",
            "epoch 138, loss nan\n",
            "epoch 139, loss nan\n",
            "epoch 140, loss nan\n",
            "epoch 141, loss nan\n",
            "epoch 142, loss nan\n",
            "epoch 143, loss nan\n",
            "epoch 144, loss nan\n",
            "epoch 145, loss nan\n",
            "epoch 146, loss nan\n",
            "epoch 147, loss nan\n",
            "epoch 148, loss nan\n",
            "epoch 149, loss nan\n",
            "epoch 150, loss nan\n",
            "epoch 151, loss nan\n",
            "epoch 152, loss nan\n",
            "epoch 153, loss nan\n",
            "epoch 154, loss nan\n",
            "epoch 155, loss nan\n",
            "epoch 156, loss nan\n",
            "epoch 157, loss nan\n",
            "epoch 158, loss nan\n",
            "epoch 159, loss nan\n",
            "epoch 160, loss nan\n",
            "epoch 161, loss nan\n",
            "epoch 162, loss nan\n",
            "epoch 163, loss nan\n",
            "epoch 164, loss nan\n",
            "epoch 165, loss nan\n",
            "epoch 166, loss nan\n",
            "epoch 167, loss nan\n",
            "epoch 168, loss nan\n",
            "epoch 169, loss nan\n",
            "epoch 170, loss nan\n",
            "epoch 171, loss nan\n",
            "epoch 172, loss nan\n",
            "epoch 173, loss nan\n",
            "epoch 174, loss nan\n",
            "epoch 175, loss nan\n",
            "epoch 176, loss nan\n",
            "epoch 177, loss nan\n",
            "epoch 178, loss nan\n",
            "epoch 179, loss nan\n",
            "epoch 180, loss nan\n",
            "epoch 181, loss nan\n",
            "epoch 182, loss nan\n",
            "epoch 183, loss nan\n",
            "epoch 184, loss nan\n",
            "epoch 185, loss nan\n",
            "epoch 186, loss nan\n",
            "epoch 187, loss nan\n",
            "epoch 188, loss nan\n",
            "epoch 189, loss nan\n",
            "epoch 190, loss nan\n",
            "epoch 191, loss nan\n",
            "epoch 192, loss nan\n",
            "epoch 193, loss nan\n",
            "epoch 194, loss nan\n",
            "epoch 195, loss nan\n",
            "epoch 196, loss nan\n",
            "epoch 197, loss nan\n",
            "epoch 198, loss nan\n",
            "epoch 199, loss nan\n",
            "epoch 200, loss nan\n",
            "epoch 201, loss nan\n",
            "epoch 202, loss nan\n",
            "epoch 203, loss nan\n",
            "epoch 204, loss nan\n",
            "epoch 205, loss nan\n",
            "epoch 206, loss nan\n",
            "epoch 207, loss nan\n",
            "epoch 208, loss nan\n",
            "epoch 209, loss nan\n",
            "epoch 210, loss nan\n",
            "epoch 211, loss nan\n",
            "epoch 212, loss nan\n",
            "epoch 213, loss nan\n",
            "epoch 214, loss nan\n",
            "epoch 215, loss nan\n",
            "epoch 216, loss nan\n",
            "epoch 217, loss nan\n",
            "epoch 218, loss nan\n",
            "epoch 219, loss nan\n",
            "epoch 220, loss nan\n",
            "epoch 221, loss nan\n",
            "epoch 222, loss nan\n",
            "epoch 223, loss nan\n",
            "epoch 224, loss nan\n",
            "epoch 225, loss nan\n",
            "epoch 226, loss nan\n",
            "epoch 227, loss nan\n",
            "epoch 228, loss nan\n",
            "epoch 229, loss nan\n",
            "epoch 230, loss nan\n",
            "epoch 231, loss nan\n",
            "epoch 232, loss nan\n",
            "epoch 233, loss nan\n",
            "epoch 234, loss nan\n",
            "epoch 235, loss nan\n",
            "epoch 236, loss nan\n",
            "epoch 237, loss nan\n",
            "epoch 238, loss nan\n",
            "epoch 239, loss nan\n",
            "epoch 240, loss nan\n",
            "epoch 241, loss nan\n",
            "epoch 242, loss nan\n",
            "epoch 243, loss nan\n",
            "epoch 244, loss nan\n",
            "epoch 245, loss nan\n",
            "epoch 246, loss nan\n",
            "epoch 247, loss nan\n",
            "epoch 248, loss nan\n",
            "epoch 249, loss nan\n",
            "epoch 250, loss nan\n",
            "epoch 251, loss nan\n",
            "epoch 252, loss nan\n",
            "epoch 253, loss nan\n",
            "epoch 254, loss nan\n",
            "epoch 255, loss nan\n",
            "epoch 256, loss nan\n",
            "epoch 257, loss nan\n",
            "epoch 258, loss nan\n",
            "epoch 259, loss nan\n",
            "epoch 260, loss nan\n",
            "epoch 261, loss nan\n",
            "epoch 262, loss nan\n",
            "epoch 263, loss nan\n",
            "epoch 264, loss nan\n",
            "epoch 265, loss nan\n",
            "epoch 266, loss nan\n",
            "epoch 267, loss nan\n",
            "epoch 268, loss nan\n",
            "epoch 269, loss nan\n",
            "epoch 270, loss nan\n",
            "epoch 271, loss nan\n",
            "epoch 272, loss nan\n",
            "epoch 273, loss nan\n",
            "epoch 274, loss nan\n",
            "epoch 275, loss nan\n",
            "epoch 276, loss nan\n",
            "epoch 277, loss nan\n",
            "epoch 278, loss nan\n",
            "epoch 279, loss nan\n",
            "epoch 280, loss nan\n",
            "epoch 281, loss nan\n",
            "epoch 282, loss nan\n",
            "epoch 283, loss nan\n",
            "epoch 284, loss nan\n",
            "epoch 285, loss nan\n",
            "epoch 286, loss nan\n",
            "epoch 287, loss nan\n",
            "epoch 288, loss nan\n",
            "epoch 289, loss nan\n",
            "epoch 290, loss nan\n",
            "epoch 291, loss nan\n",
            "epoch 292, loss nan\n",
            "epoch 293, loss nan\n",
            "epoch 294, loss nan\n",
            "epoch 295, loss nan\n",
            "epoch 296, loss nan\n",
            "epoch 297, loss nan\n",
            "epoch 298, loss nan\n",
            "epoch 299, loss nan\n",
            "epoch 300, loss nan\n",
            "epoch 301, loss nan\n",
            "epoch 302, loss nan\n",
            "epoch 303, loss nan\n",
            "epoch 304, loss nan\n",
            "epoch 305, loss nan\n",
            "epoch 306, loss nan\n",
            "epoch 307, loss nan\n",
            "epoch 308, loss nan\n",
            "epoch 309, loss nan\n",
            "epoch 310, loss nan\n",
            "epoch 311, loss nan\n",
            "epoch 312, loss nan\n",
            "epoch 313, loss nan\n",
            "epoch 314, loss nan\n",
            "epoch 315, loss nan\n",
            "epoch 316, loss nan\n",
            "epoch 317, loss nan\n",
            "epoch 318, loss nan\n",
            "epoch 319, loss nan\n",
            "epoch 320, loss nan\n",
            "epoch 321, loss nan\n",
            "epoch 322, loss nan\n",
            "epoch 323, loss nan\n",
            "epoch 324, loss nan\n",
            "epoch 325, loss nan\n",
            "epoch 326, loss nan\n",
            "epoch 327, loss nan\n",
            "epoch 328, loss nan\n",
            "epoch 329, loss nan\n",
            "epoch 330, loss nan\n",
            "epoch 331, loss nan\n",
            "epoch 332, loss nan\n",
            "epoch 333, loss nan\n",
            "epoch 334, loss nan\n",
            "epoch 335, loss nan\n",
            "epoch 336, loss nan\n",
            "epoch 337, loss nan\n",
            "epoch 338, loss nan\n",
            "epoch 339, loss nan\n",
            "epoch 340, loss nan\n",
            "epoch 341, loss nan\n",
            "epoch 342, loss nan\n",
            "epoch 343, loss nan\n",
            "epoch 344, loss nan\n",
            "epoch 345, loss nan\n",
            "epoch 346, loss nan\n",
            "epoch 347, loss nan\n",
            "epoch 348, loss nan\n",
            "epoch 349, loss nan\n",
            "epoch 350, loss nan\n",
            "epoch 351, loss nan\n",
            "epoch 352, loss nan\n",
            "epoch 353, loss nan\n",
            "epoch 354, loss nan\n",
            "epoch 355, loss nan\n",
            "epoch 356, loss nan\n",
            "epoch 357, loss nan\n",
            "epoch 358, loss nan\n",
            "epoch 359, loss nan\n",
            "epoch 360, loss nan\n",
            "epoch 361, loss nan\n",
            "epoch 362, loss nan\n",
            "epoch 363, loss nan\n",
            "epoch 364, loss nan\n",
            "epoch 365, loss nan\n",
            "epoch 366, loss nan\n",
            "epoch 367, loss nan\n",
            "epoch 368, loss nan\n",
            "epoch 369, loss nan\n",
            "epoch 370, loss nan\n",
            "epoch 371, loss nan\n",
            "epoch 372, loss nan\n",
            "epoch 373, loss nan\n",
            "epoch 374, loss nan\n",
            "epoch 375, loss nan\n",
            "epoch 376, loss nan\n",
            "epoch 377, loss nan\n",
            "epoch 378, loss nan\n",
            "epoch 379, loss nan\n",
            "epoch 380, loss nan\n",
            "epoch 381, loss nan\n",
            "epoch 382, loss nan\n",
            "epoch 383, loss nan\n",
            "epoch 384, loss nan\n",
            "epoch 385, loss nan\n",
            "epoch 386, loss nan\n",
            "epoch 387, loss nan\n",
            "epoch 388, loss nan\n",
            "epoch 389, loss nan\n",
            "epoch 390, loss nan\n",
            "epoch 391, loss nan\n",
            "epoch 392, loss nan\n",
            "epoch 393, loss nan\n",
            "epoch 394, loss nan\n",
            "epoch 395, loss nan\n",
            "epoch 396, loss nan\n",
            "epoch 397, loss nan\n",
            "epoch 398, loss nan\n",
            "epoch 399, loss nan\n",
            "epoch 400, loss nan\n",
            "epoch 401, loss nan\n",
            "epoch 402, loss nan\n",
            "epoch 403, loss nan\n",
            "epoch 404, loss nan\n",
            "epoch 405, loss nan\n",
            "epoch 406, loss nan\n",
            "epoch 407, loss nan\n",
            "epoch 408, loss nan\n",
            "epoch 409, loss nan\n",
            "epoch 410, loss nan\n",
            "epoch 411, loss nan\n",
            "epoch 412, loss nan\n",
            "epoch 413, loss nan\n",
            "epoch 414, loss nan\n",
            "epoch 415, loss nan\n",
            "epoch 416, loss nan\n",
            "epoch 417, loss nan\n",
            "epoch 418, loss nan\n",
            "epoch 419, loss nan\n",
            "epoch 420, loss nan\n",
            "epoch 421, loss nan\n",
            "epoch 422, loss nan\n",
            "epoch 423, loss nan\n",
            "epoch 424, loss nan\n",
            "epoch 425, loss nan\n",
            "epoch 426, loss nan\n",
            "epoch 427, loss nan\n",
            "epoch 428, loss nan\n",
            "epoch 429, loss nan\n",
            "epoch 430, loss nan\n",
            "epoch 431, loss nan\n",
            "epoch 432, loss nan\n",
            "epoch 433, loss nan\n",
            "epoch 434, loss nan\n",
            "epoch 435, loss nan\n",
            "epoch 436, loss nan\n",
            "epoch 437, loss nan\n",
            "epoch 438, loss nan\n",
            "epoch 439, loss nan\n",
            "epoch 440, loss nan\n",
            "epoch 441, loss nan\n",
            "epoch 442, loss nan\n",
            "epoch 443, loss nan\n",
            "epoch 444, loss nan\n",
            "epoch 445, loss nan\n",
            "epoch 446, loss nan\n",
            "epoch 447, loss nan\n",
            "epoch 448, loss nan\n",
            "epoch 449, loss nan\n",
            "epoch 450, loss nan\n",
            "epoch 451, loss nan\n",
            "epoch 452, loss nan\n",
            "epoch 453, loss nan\n",
            "epoch 454, loss nan\n",
            "epoch 455, loss nan\n",
            "epoch 456, loss nan\n",
            "epoch 457, loss nan\n",
            "epoch 458, loss nan\n",
            "epoch 459, loss nan\n",
            "epoch 460, loss nan\n",
            "epoch 461, loss nan\n",
            "epoch 462, loss nan\n",
            "epoch 463, loss nan\n",
            "epoch 464, loss nan\n",
            "epoch 465, loss nan\n",
            "epoch 466, loss nan\n",
            "epoch 467, loss nan\n",
            "epoch 468, loss nan\n",
            "epoch 469, loss nan\n",
            "epoch 470, loss nan\n",
            "epoch 471, loss nan\n",
            "epoch 472, loss nan\n",
            "epoch 473, loss nan\n",
            "epoch 474, loss nan\n",
            "epoch 475, loss nan\n",
            "epoch 476, loss nan\n",
            "epoch 477, loss nan\n",
            "epoch 478, loss nan\n",
            "epoch 479, loss nan\n",
            "epoch 480, loss nan\n",
            "epoch 481, loss nan\n",
            "epoch 482, loss nan\n",
            "epoch 483, loss nan\n",
            "epoch 484, loss nan\n",
            "epoch 485, loss nan\n",
            "epoch 486, loss nan\n",
            "epoch 487, loss nan\n",
            "epoch 488, loss nan\n",
            "epoch 489, loss nan\n",
            "epoch 490, loss nan\n",
            "epoch 491, loss nan\n",
            "epoch 492, loss nan\n",
            "epoch 493, loss nan\n",
            "epoch 494, loss nan\n",
            "epoch 495, loss nan\n",
            "epoch 496, loss nan\n",
            "epoch 497, loss nan\n",
            "epoch 498, loss nan\n",
            "epoch 499, loss nan\n"
          ],
          "name": "stdout"
        }
      ]
    },
    {
      "cell_type": "code",
      "metadata": {
        "id": "xjUDQTP8oqdK"
      },
      "source": [
        "new_var = Variable(torch.Tensor([[4.0]])) \n",
        "pred_y = our_model(new_var) \n",
        "print(\"predict (after training)\", 4, our_model(new_var).item()) "
      ],
      "execution_count": null,
      "outputs": []
    }
  ]
}